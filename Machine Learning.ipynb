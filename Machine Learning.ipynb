{
  "nbformat": 4,
  "nbformat_minor": 0,
  "metadata": {
    "colab": {
      "name": "Machine Learning.ipynb",
      "provenance": [],
      "collapsed_sections": [],
      "toc_visible": true
    },
    "kernelspec": {
      "name": "python3",
      "display_name": "Python 3"
    }
  },
  "cells": [
    {
      "cell_type": "markdown",
      "metadata": {
        "id": "uPl6iARw7T8H",
        "colab_type": "text"
      },
      "source": [
        "[![Open In Colab](https://colab.research.google.com/assets/colab-badge.svg)](https://colab.research.google.com/github/rupaltotale/Movie-Genre-Predictor/blob/master/Machin%20Learning.ipynb)\n",
        "# Machine Learning\n",
        "\n",
        "In this section, we build a machine learning model to predict genre(s) for a movie. Since our prediction can span multiple values, we will have to use a multi-label classification model. "
      ]
    },
    {
      "cell_type": "markdown",
      "metadata": {
        "id": "MtDqL6ik_U7D",
        "colab_type": "text"
      },
      "source": [
        "## Setup"
      ]
    },
    {
      "cell_type": "markdown",
      "metadata": {
        "id": "flkD9jDj8QMU",
        "colab_type": "text"
      },
      "source": [
        "### Make needed imports"
      ]
    },
    {
      "cell_type": "code",
      "metadata": {
        "id": "SWBTKW2U69eW",
        "colab_type": "code",
        "colab": {}
      },
      "source": [
        "import pandas as pd\n",
        "\n",
        "from sklearn.neighbors import KNeighborsClassifier\n",
        "from sklearn.multiclass import OneVsRestClassifier\n",
        "from sklearn.ensemble import RandomForestClassifier\n",
        "from sklearn.linear_model import RidgeClassifier\n",
        "\n",
        "from sklearn.pipeline import make_pipeline\n",
        "from sklearn.compose import make_column_transformer\n",
        "from sklearn.preprocessing import StandardScaler, OneHotEncoder\n",
        "from sklearn.feature_extraction.text import TfidfVectorizer\n",
        "\n",
        "from sklearn.model_selection import cross_val_score, cross_validate\n",
        "from sklearn.preprocessing import *\n",
        "from google.colab import files\n",
        "from io import BytesIO\n",
        "import numpy as np\n",
        "from sklearn.linear_model import *\n",
        "from sklearn.metrics import *\n",
        "from google.colab import drive"
      ],
      "execution_count": 0,
      "outputs": []
    },
    {
      "cell_type": "code",
      "metadata": {
        "id": "vKH1dIFwE_7r",
        "colab_type": "code",
        "outputId": "1c1062c6-8f20-439a-eb93-2b8f52d6c5c0",
        "colab": {
          "base_uri": "https://localhost:8080/",
          "height": 34
        }
      },
      "source": [
        "# Import multiclass library from scikit\n",
        "!pip install scikit-multilearn"
      ],
      "execution_count": 0,
      "outputs": [
        {
          "output_type": "stream",
          "text": [
            "Requirement already satisfied: scikit-multilearn in /usr/local/lib/python3.6/dist-packages (0.2.0)\n"
          ],
          "name": "stdout"
        }
      ]
    },
    {
      "cell_type": "markdown",
      "metadata": {
        "id": "C4GmalU38nSm",
        "colab_type": "text"
      },
      "source": [
        "### Setup Drive and dataset"
      ]
    },
    {
      "cell_type": "code",
      "metadata": {
        "id": "0wqaomol-5rl",
        "colab_type": "code",
        "outputId": "3402c9ca-4547-4829-acee-71980c077153",
        "colab": {
          "base_uri": "https://localhost:8080/",
          "height": 700
        }
      },
      "source": [
        "drive.mount('drive')\n",
        "data_dir = \"drive/My Drive/301 Project/Data/\"\n",
        "df_movies = pd.read_csv(data_dir + \"cleaned_dataframe.csv\").drop(\n",
        "    columns=[\"Unnamed: 0\"],\n",
        "    axis=1\n",
        ")\n",
        "\n",
        "# We randomly sample 10 observations that are not trained on to use for predictions\n",
        "df_movies_test = df_movies.sample(10)\n",
        "df_movies_test = df_movies_test.reset_index().drop(columns=[\"index\"])\n",
        "\n",
        "df_movies = df_movies.set_index(\"id\").drop(df_movies_test.id).reset_index()\n",
        "df_movies.head()"
      ],
      "execution_count": 21,
      "outputs": [
        {
          "output_type": "stream",
          "text": [
            "Drive already mounted at drive; to attempt to forcibly remount, call drive.mount(\"drive\", force_remount=True).\n"
          ],
          "name": "stdout"
        },
        {
          "output_type": "execute_result",
          "data": {
            "text/html": [
              "<div>\n",
              "<style scoped>\n",
              "    .dataframe tbody tr th:only-of-type {\n",
              "        vertical-align: middle;\n",
              "    }\n",
              "\n",
              "    .dataframe tbody tr th {\n",
              "        vertical-align: top;\n",
              "    }\n",
              "\n",
              "    .dataframe thead th {\n",
              "        text-align: right;\n",
              "    }\n",
              "</style>\n",
              "<table border=\"1\" class=\"dataframe\">\n",
              "  <thead>\n",
              "    <tr style=\"text-align: right;\">\n",
              "      <th></th>\n",
              "      <th>id</th>\n",
              "      <th>Animation</th>\n",
              "      <th>Horror</th>\n",
              "      <th>Mystery</th>\n",
              "      <th>Fantasy</th>\n",
              "      <th>Romance</th>\n",
              "      <th>TV Movie</th>\n",
              "      <th>Family</th>\n",
              "      <th>Documentary</th>\n",
              "      <th>Western</th>\n",
              "      <th>Science Fiction</th>\n",
              "      <th>Foreign</th>\n",
              "      <th>Crime</th>\n",
              "      <th>Adventure</th>\n",
              "      <th>Thriller</th>\n",
              "      <th>Comedy</th>\n",
              "      <th>War</th>\n",
              "      <th>Drama</th>\n",
              "      <th>History</th>\n",
              "      <th>Action</th>\n",
              "      <th>Music</th>\n",
              "      <th>original_title</th>\n",
              "      <th>budget</th>\n",
              "      <th>overview</th>\n",
              "      <th>popularity</th>\n",
              "      <th>production_companies</th>\n",
              "      <th>revenue</th>\n",
              "      <th>runtime</th>\n",
              "      <th>tagline</th>\n",
              "      <th>vote_average</th>\n",
              "      <th>vote_count</th>\n",
              "      <th>collection</th>\n",
              "      <th>Composer</th>\n",
              "      <th>Director</th>\n",
              "      <th>Screenplay</th>\n",
              "      <th>cast</th>\n",
              "      <th>keywords</th>\n",
              "      <th>rating_average</th>\n",
              "      <th>userId_who_like</th>\n",
              "    </tr>\n",
              "  </thead>\n",
              "  <tbody>\n",
              "    <tr>\n",
              "      <th>0</th>\n",
              "      <td>862</td>\n",
              "      <td>1</td>\n",
              "      <td>0</td>\n",
              "      <td>0</td>\n",
              "      <td>0</td>\n",
              "      <td>0</td>\n",
              "      <td>0</td>\n",
              "      <td>1</td>\n",
              "      <td>0</td>\n",
              "      <td>0</td>\n",
              "      <td>0</td>\n",
              "      <td>0</td>\n",
              "      <td>0</td>\n",
              "      <td>0</td>\n",
              "      <td>0</td>\n",
              "      <td>1</td>\n",
              "      <td>0</td>\n",
              "      <td>0</td>\n",
              "      <td>0</td>\n",
              "      <td>0</td>\n",
              "      <td>0</td>\n",
              "      <td>Toy Story</td>\n",
              "      <td>30000000</td>\n",
              "      <td>Led by Woody, Andy's toys live happily in his ...</td>\n",
              "      <td>21.946943</td>\n",
              "      <td>Pixar_Animation_Studios</td>\n",
              "      <td>373554033.0</td>\n",
              "      <td>81.0</td>\n",
              "      <td>NaN</td>\n",
              "      <td>7.7</td>\n",
              "      <td>5415.0</td>\n",
              "      <td>Toy_Story_Collection</td>\n",
              "      <td>NaN</td>\n",
              "      <td>John_Lasseter</td>\n",
              "      <td>Alec_Sokolow</td>\n",
              "      <td>Tom_Hanks Tim_Allen Don_Rickles Jim_Varney Wal...</td>\n",
              "      <td>jealousy toy boy friendship friends rivalry bo...</td>\n",
              "      <td>3.598930</td>\n",
              "      <td>2103 6177 6525 8659 9328 9682 11214 13839 1523...</td>\n",
              "    </tr>\n",
              "    <tr>\n",
              "      <th>1</th>\n",
              "      <td>8844</td>\n",
              "      <td>0</td>\n",
              "      <td>0</td>\n",
              "      <td>0</td>\n",
              "      <td>1</td>\n",
              "      <td>0</td>\n",
              "      <td>0</td>\n",
              "      <td>1</td>\n",
              "      <td>0</td>\n",
              "      <td>0</td>\n",
              "      <td>0</td>\n",
              "      <td>0</td>\n",
              "      <td>0</td>\n",
              "      <td>1</td>\n",
              "      <td>0</td>\n",
              "      <td>0</td>\n",
              "      <td>0</td>\n",
              "      <td>0</td>\n",
              "      <td>0</td>\n",
              "      <td>0</td>\n",
              "      <td>0</td>\n",
              "      <td>Jumanji</td>\n",
              "      <td>65000000</td>\n",
              "      <td>When siblings Judy and Peter discover an encha...</td>\n",
              "      <td>17.015539</td>\n",
              "      <td>TriStar_Pictures Teitler_Film Interscope_Commu...</td>\n",
              "      <td>262797249.0</td>\n",
              "      <td>104.0</td>\n",
              "      <td>Roll the dice and unleash the excitement!</td>\n",
              "      <td>6.9</td>\n",
              "      <td>2413.0</td>\n",
              "      <td>NaN</td>\n",
              "      <td>James_Horner</td>\n",
              "      <td>Joe_Johnston</td>\n",
              "      <td>Jim_Strain</td>\n",
              "      <td>Robin_Williams Jonathan_Hyde Kirsten_Dunst Bra...</td>\n",
              "      <td>board_game disappearance based_on_children's_b...</td>\n",
              "      <td>3.760163</td>\n",
              "      <td>7016 7144 8659 9547 13399 17808 24266 25209 26...</td>\n",
              "    </tr>\n",
              "    <tr>\n",
              "      <th>2</th>\n",
              "      <td>949</td>\n",
              "      <td>0</td>\n",
              "      <td>0</td>\n",
              "      <td>0</td>\n",
              "      <td>0</td>\n",
              "      <td>0</td>\n",
              "      <td>0</td>\n",
              "      <td>0</td>\n",
              "      <td>0</td>\n",
              "      <td>0</td>\n",
              "      <td>0</td>\n",
              "      <td>0</td>\n",
              "      <td>1</td>\n",
              "      <td>0</td>\n",
              "      <td>1</td>\n",
              "      <td>0</td>\n",
              "      <td>0</td>\n",
              "      <td>1</td>\n",
              "      <td>0</td>\n",
              "      <td>1</td>\n",
              "      <td>0</td>\n",
              "      <td>Heat</td>\n",
              "      <td>60000000</td>\n",
              "      <td>Obsessive master thief, Neil McCauley leads a ...</td>\n",
              "      <td>17.924927</td>\n",
              "      <td>Regency_Enterprises Forward_Pass Warner_Bros.</td>\n",
              "      <td>187436818.0</td>\n",
              "      <td>170.0</td>\n",
              "      <td>A Los Angeles Crime Saga</td>\n",
              "      <td>7.7</td>\n",
              "      <td>1886.0</td>\n",
              "      <td>NaN</td>\n",
              "      <td>Elliot_Goldenthal</td>\n",
              "      <td>Michael_Mann</td>\n",
              "      <td>Michael_Mann</td>\n",
              "      <td>Al_Pacino Robert_De_Niro Val_Kilmer Jon_Voight...</td>\n",
              "      <td>robbery detective bank obsession chase shootin...</td>\n",
              "      <td>3.905544</td>\n",
              "      <td>174 346 362 384 523 557 609 624 773 825 959 11...</td>\n",
              "    </tr>\n",
              "    <tr>\n",
              "      <th>3</th>\n",
              "      <td>710</td>\n",
              "      <td>0</td>\n",
              "      <td>0</td>\n",
              "      <td>0</td>\n",
              "      <td>0</td>\n",
              "      <td>0</td>\n",
              "      <td>0</td>\n",
              "      <td>0</td>\n",
              "      <td>0</td>\n",
              "      <td>0</td>\n",
              "      <td>0</td>\n",
              "      <td>0</td>\n",
              "      <td>0</td>\n",
              "      <td>1</td>\n",
              "      <td>1</td>\n",
              "      <td>0</td>\n",
              "      <td>0</td>\n",
              "      <td>0</td>\n",
              "      <td>0</td>\n",
              "      <td>1</td>\n",
              "      <td>0</td>\n",
              "      <td>GoldenEye</td>\n",
              "      <td>58000000</td>\n",
              "      <td>James Bond must unmask the mysterious head of ...</td>\n",
              "      <td>14.686036</td>\n",
              "      <td>United_Artists Eon_Productions</td>\n",
              "      <td>352194034.0</td>\n",
              "      <td>130.0</td>\n",
              "      <td>No limits. No fears. No substitutes.</td>\n",
              "      <td>6.6</td>\n",
              "      <td>1194.0</td>\n",
              "      <td>James_Bond_Collection</td>\n",
              "      <td>Eric_Serra</td>\n",
              "      <td>Martin_Campbell</td>\n",
              "      <td>Bruce_Feirstein</td>\n",
              "      <td>Pierce_Brosnan Sean_Bean Izabella_Scorupco Fam...</td>\n",
              "      <td>cuba falsely_accused secret_identity computer_...</td>\n",
              "      <td>2.740334</td>\n",
              "      <td>2073 2709 2967 4241 4389 4916 5463 5811 5980 8...</td>\n",
              "    </tr>\n",
              "    <tr>\n",
              "      <th>4</th>\n",
              "      <td>1408</td>\n",
              "      <td>0</td>\n",
              "      <td>0</td>\n",
              "      <td>0</td>\n",
              "      <td>0</td>\n",
              "      <td>0</td>\n",
              "      <td>0</td>\n",
              "      <td>0</td>\n",
              "      <td>0</td>\n",
              "      <td>0</td>\n",
              "      <td>0</td>\n",
              "      <td>0</td>\n",
              "      <td>0</td>\n",
              "      <td>1</td>\n",
              "      <td>0</td>\n",
              "      <td>0</td>\n",
              "      <td>0</td>\n",
              "      <td>0</td>\n",
              "      <td>0</td>\n",
              "      <td>1</td>\n",
              "      <td>0</td>\n",
              "      <td>Cutthroat Island</td>\n",
              "      <td>98000000</td>\n",
              "      <td>Morgan Adams and her slave, William Shaw, are ...</td>\n",
              "      <td>7.284477</td>\n",
              "      <td>Le_Studio_Canal+ Laurence_Mark_Productions Met...</td>\n",
              "      <td>10017322.0</td>\n",
              "      <td>119.0</td>\n",
              "      <td>The Course Has Been Set. There Is No Turning B...</td>\n",
              "      <td>5.7</td>\n",
              "      <td>137.0</td>\n",
              "      <td>NaN</td>\n",
              "      <td>NaN</td>\n",
              "      <td>Renny_Harlin</td>\n",
              "      <td>Robert_King</td>\n",
              "      <td>Geena_Davis Matthew_Modine Frank_Langella Maur...</td>\n",
              "      <td>exotic_island treasure map ship scalp pirate</td>\n",
              "      <td>3.710181</td>\n",
              "      <td>15 65 68 98 115 151 153 193 231 288 326 340 34...</td>\n",
              "    </tr>\n",
              "  </tbody>\n",
              "</table>\n",
              "</div>"
            ],
            "text/plain": [
              "     id  ...                                    userId_who_like\n",
              "0   862  ...  2103 6177 6525 8659 9328 9682 11214 13839 1523...\n",
              "1  8844  ...  7016 7144 8659 9547 13399 17808 24266 25209 26...\n",
              "2   949  ...  174 346 362 384 523 557 609 624 773 825 959 11...\n",
              "3   710  ...  2073 2709 2967 4241 4389 4916 5463 5811 5980 8...\n",
              "4  1408  ...  15 65 68 98 115 151 153 193 231 288 326 340 34...\n",
              "\n",
              "[5 rows x 39 columns]"
            ]
          },
          "metadata": {
            "tags": []
          },
          "execution_count": 21
        }
      ]
    },
    {
      "cell_type": "markdown",
      "metadata": {
        "id": "D_HQW1hgsafe",
        "colab_type": "text"
      },
      "source": [
        "### Determine if tests should be run\n",
        "This is used to determine if certain tests that take a while should be run or not. \n",
        "\n",
        "Note: Type **yes** or **no** after running this cell. "
      ]
    },
    {
      "cell_type": "code",
      "metadata": {
        "id": "MgzJkHbim9Uc",
        "colab_type": "code",
        "outputId": "87afe757-9a17-422a-945c-521042ccb853",
        "colab": {
          "base_uri": "https://localhost:8080/",
          "height": 51
        }
      },
      "source": [
        "should_run_tests = input(\"Do you want to run tests [y/n]?\\n\")\n",
        "if should_run_tests == \"y\" or should_run_tests == \"yes\":\n",
        "  should_run_tests = True\n",
        "else:\n",
        "  should_run_tests = False"
      ],
      "execution_count": 3,
      "outputs": [
        {
          "output_type": "stream",
          "text": [
            "Do you want to run tests [y/n]?\n",
            "y\n"
          ],
          "name": "stdout"
        }
      ]
    },
    {
      "cell_type": "markdown",
      "metadata": {
        "id": "u4jIpzaS6Slb",
        "colab_type": "text"
      },
      "source": [
        "### Clean DataFrame, extract y_train (genre), define feature types\n",
        "\n"
      ]
    },
    {
      "cell_type": "markdown",
      "metadata": {
        "id": "jbwHy__94p7M",
        "colab_type": "text"
      },
      "source": [
        "**Rationale behind cleaning collections:**\n",
        "Any movie not part of a colleciton has its collection set as its title. This way we can still use collection as a feature to test, since in our testing we dropna, so we would lose many movies since most movies are not part of a collection. The code below fixes that problem."
      ]
    },
    {
      "cell_type": "code",
      "metadata": {
        "id": "KgeQIwsz6W8r",
        "colab_type": "code",
        "colab": {}
      },
      "source": [
        "# Get all genres (which is our y_train)\n",
        "genres = list(df_movies.columns[1:21])\n",
        "\n",
        "# Define the types of movie features\n",
        "testing_types = {\n",
        "  'Composer' : \"ohe\",\n",
        "  'Director' : \"ohe\",\n",
        "  'Screenplay' : \"ohe\",\n",
        "  'budget' : \"scale\",\n",
        "  'cast' : \"tfidf\",\n",
        "  'collection' : \"ohe\",\n",
        "  'keywords' : \"tfidf\",\n",
        "  'original_title' : \"tfidf\",\n",
        "  'overview' : \"tfidf\",\n",
        "  'popularity' : \"scale\",\n",
        "  'production_companies' : \"tfidf\",\n",
        "  'rating_average' : \"scale\",\n",
        "  'revenue' : \"scale\",\n",
        "  'runtime' : \"scale\",\n",
        "  'userId_who_like' : \"tfidf\",\n",
        "  'vote_average' : \"scale\",\n",
        "  'vote_count' : \"scale\",\n",
        "  'tagline' : \"tfidf\",\n",
        "  'mod_overview' : \"tfidf\"\n",
        "}\n",
        "\n",
        "# Clean collections\n",
        "df_movies[\"collection\"] = df_movies[\"collection\"].fillna(\n",
        "    df_movies[\"original_title\"]\n",
        ")\n",
        "\n",
        "# From our visual exploration conclusion\n",
        "# We don't consider \"userId_who_like\" because it takes too long to run and \n",
        "# may not be worth the effort. \n",
        "expected_good_features = [\n",
        "    \"budget\", \"popularity\", \"revenue\", \n",
        "    \"vote_count\", \"collection\",\n",
        "    \"cast\", \"keywords\"\n",
        "]"
      ],
      "execution_count": 0,
      "outputs": []
    },
    {
      "cell_type": "markdown",
      "metadata": {
        "id": "LsOZMOUp_ZpR",
        "colab_type": "text"
      },
      "source": [
        "## Defining helper functions to build our ML model"
      ]
    },
    {
      "cell_type": "markdown",
      "metadata": {
        "id": "-hxWoKNrVsM1",
        "colab_type": "text"
      },
      "source": [
        "### Helper methods for scoring our models"
      ]
    },
    {
      "cell_type": "code",
      "metadata": {
        "id": "EZ4l_Xs4Vrm4",
        "colab_type": "code",
        "colab": {}
      },
      "source": [
        "def my_score_with_average_and_scoring(scoring, average):\n",
        "  \"\"\"\n",
        "    Returns the function (f1_score, precision_score, etc.)\n",
        "    with the average set as well. This way, we can pass a scoring \n",
        "    function with an average that's not automatically\n",
        "    set to binary\n",
        "  \"\"\"\n",
        "  def my_score_with_average_set(y_true, y_pred, **kwargs):\n",
        "    return scoring(y_true, y_pred, average=average, **kwargs)\n",
        "  return make_scorer(my_score_with_average_set)"
      ],
      "execution_count": 0,
      "outputs": []
    },
    {
      "cell_type": "markdown",
      "metadata": {
        "id": "yQQHjdu57Oys",
        "colab_type": "text"
      },
      "source": [
        "### Helper functions to build our models"
      ]
    },
    {
      "cell_type": "markdown",
      "metadata": {
        "id": "bjaSWkYv8AKM",
        "colab_type": "text"
      },
      "source": [
        "##### Helper function to build a model"
      ]
    },
    {
      "cell_type": "code",
      "metadata": {
        "id": "9tf_5j92A0ge",
        "colab_type": "code",
        "colab": {}
      },
      "source": [
        "def give_certain_models(label_model, classifier_model,\n",
        "                        label_model_kwargs={}, classifier_model_kwargs={},\n",
        "                        use_dense=False):\n",
        "  \"\"\"\n",
        "    label_model: Usually OneVsRestClassifier\n",
        "    classifier_model: what's passed into OneVsRestClassifier\n",
        "\n",
        "    - You can optionally pass kwargs into each too\n",
        "\n",
        "    Returns a model that can be passed into assemble.\n",
        "  \"\"\"\n",
        "  def specific_model_to_use(cts, X_train, y_train):\n",
        "    \"\"\"\n",
        "      Creates that actual model based on variables passed in outer function\n",
        "      -  Unpacks ColumnTransformers and unpacks optional kwargs for the pipeline\n",
        "    \"\"\"\n",
        "    if use_dense:\n",
        "      model = make_pipeline(\n",
        "          *cts, # Unpack all the ColumnTransformers\n",
        "          FunctionTransformer(lambda x: x.todense(), accept_sparse=True),\n",
        "          label_model(\n",
        "              classifier_model(**classifier_model_kwargs), **label_model_kwargs\n",
        "          )\n",
        "      )\n",
        "    else:\n",
        "      model = make_pipeline(\n",
        "          *cts,\n",
        "          label_model(\n",
        "              classifier_model(**classifier_model_kwargs), **label_model_kwargs\n",
        "          )\n",
        "      )\n",
        "    model.fit(X=X_train, y=y_train)\n",
        "    return model\n",
        "  return specific_model_to_use"
      ],
      "execution_count": 0,
      "outputs": []
    },
    {
      "cell_type": "markdown",
      "metadata": {
        "id": "MWzZj3P_8EPN",
        "colab_type": "text"
      },
      "source": [
        "##### Helper functions to build a ColumnTransformer"
      ]
    },
    {
      "cell_type": "code",
      "metadata": {
        "id": "82FRN8L9M0a7",
        "colab_type": "code",
        "colab": {}
      },
      "source": [
        "def create_default_tfidf_transformers(column_list):\n",
        "  \"\"\"\n",
        "    Returns a ColumnTransformer containing all tfidf columns passed\n",
        "    into this\n",
        "  \"\"\"\n",
        "  tuple_list = [(TfidfVectorizer(), col) for col in column_list]\n",
        "  return make_column_transformer(\n",
        "      *tuple_list,\n",
        "      remainder=\"passthrough\"\n",
        "  )\n",
        "\n",
        "def combine_column_transformers(cts):\n",
        "  \"\"\"\n",
        "    Input: list of ColumnTransformers\n",
        "    Returns: a ColumnTransformer where all CTs\n",
        "      passed in are combined into one single CT \n",
        "  \"\"\"\n",
        "  new_l = []\n",
        "  for ct in cts:\n",
        "    for transform in ct.transformers:\n",
        "      # transform[1] is the actual transformation (i.e. OneHotEncoder)\n",
        "      # transform[2] are the columns involved for that CT\n",
        "      new_l.append((transform[1], transform[2]))\n",
        "  if len(new_l) == 0:\n",
        "    return []\n",
        "  return make_column_transformer(\n",
        "      *new_l, # Unpack all CTs, as if they were typed separately\n",
        "      remainder=\"passthrough\"\n",
        "  )\n",
        "\n",
        "\n",
        "def get_transformers_and_columns_for_features(features, testing_types):\n",
        "  \"\"\"\n",
        "    Input: columns (features) and map of feature names to their CT types\n",
        "    Returns: dictionary of columns for each transformation type, the CTS\n",
        "      themselves, and the combined CT\n",
        "  \"\"\"\n",
        "  \n",
        "  # Get appropriate transformer columns based on features passed in\n",
        "  tfidf_cols = [col for col in features if testing_types[col] == \"tfidf\"]\n",
        "  ohe_cols = [col for col in features if testing_types[col] == \"ohe\"]\n",
        "  scale_cols = [col for col in features if testing_types[col] == \"scale\"]\n",
        "\n",
        "  # Initialize default values for each CT\n",
        "  tfidf_col_transformer, ohe_col_transformer, scale_col_transformer = [], [], []\n",
        "\n",
        "  if len(tfidf_cols) > 0:\n",
        "    # Get CT for tfidf\n",
        "    tfidf_col_transformer = [create_default_tfidf_transformers(tfidf_cols)]\n",
        "  if len(ohe_cols) > 0:\n",
        "    # Get CT for OHE\n",
        "    ohe_col_transformer = [make_column_transformer(\n",
        "        (OneHotEncoder(handle_unknown=\"ignore\"), ohe_cols),\n",
        "        remainder=\"passthrough\"\n",
        "    )]\n",
        "  if len(scale_cols) > 0:\n",
        "    # Get CT for scaling\n",
        "    scale_col_transformer = [make_column_transformer(\n",
        "        (StandardScaler(), scale_cols),\n",
        "        remainder=\"passthrough\"\n",
        "    )]\n",
        "    \n",
        "  return {\n",
        "      \"tfidf_cols\" : tfidf_cols,\n",
        "      \"ohe_cols\" : ohe_cols,\n",
        "      \"scale_cols\" : scale_cols,\n",
        "      \"tfidf_col_transformer\" : tfidf_col_transformer,\n",
        "      \"ohe_col_transformer\" : ohe_col_transformer,\n",
        "      \"scale_col_transformer\" : scale_col_transformer,\n",
        "      \"combined_transformers\" : [combine_column_transformers(\n",
        "            tfidf_col_transformer + \n",
        "            ohe_col_transformer + \n",
        "            scale_col_transformer\n",
        "        )]\n",
        "  }"
      ],
      "execution_count": 0,
      "outputs": []
    },
    {
      "cell_type": "markdown",
      "metadata": {
        "id": "22N1GnVPxzc9",
        "colab_type": "text"
      },
      "source": [
        "#### Helper function for graphing visuals"
      ]
    },
    {
      "cell_type": "code",
      "metadata": {
        "id": "i05519atxxr8",
        "colab_type": "code",
        "colab": {}
      },
      "source": [
        "def graph_values(x, y, graph_type, x_label=\"\", y_label=\"\", graph_name=\"\"):\n",
        "  ax = pd.Series(x, index=y).sort_values().plot(\n",
        "      kind=graph_type, \n",
        "      title=graph_name\n",
        "  )\n",
        "  ax.set_xlabel(x_label)\n",
        "  ax.set_ylabel(y_label)"
      ],
      "execution_count": 0,
      "outputs": []
    },
    {
      "cell_type": "markdown",
      "metadata": {
        "colab_type": "text",
        "id": "NjAmsyq1tcjm"
      },
      "source": [
        "#### Assemblers"
      ]
    },
    {
      "cell_type": "markdown",
      "metadata": {
        "id": "3hsG7wPMBy5T",
        "colab_type": "text"
      },
      "source": [
        "##### Helper function that assembles a model\n",
        "\n",
        "Gathers needed data from columns for training, sets up the models, and optionally returns the DataFrame for the predictions or reports a cross validation score of the estimator"
      ]
    },
    {
      "cell_type": "code",
      "metadata": {
        "id": "DrV_vui_vGaz",
        "colab_type": "code",
        "colab": {}
      },
      "source": [
        "def assemble(\n",
        "    ohe=[], \n",
        "    tfidf=[], \n",
        "    scale=[], \n",
        "    show_error = False, # Do cross validation\n",
        "    model=None, # Model to use for fitting and predicting\n",
        "    cts=[], # All CTs\n",
        "    scoring=my_score_with_average_and_scoring(f1_score, \"micro\"),\n",
        "    y_train_cols=genres,\n",
        "    silent=False, # Whether to print stuff or not, other than final score \n",
        "    full_silent=False, # Whether to print stuff or not for everything\n",
        "):\n",
        "  \"\"\"\n",
        "    Main ML.\n",
        "    Input: \n",
        "      - ohe, tfidf, and scale are all columns\n",
        "      - cts will relate to columns above\n",
        "      - scoring by default is f1\n",
        "    Returns:\n",
        "      - cross validation score OR estimator/model for predictions\n",
        "    What it does:\n",
        "      - Trains the model\n",
        "      - Does cross validation on the model if wanted\n",
        "  \"\"\"\n",
        "  if not silent and not full_silent:\n",
        "    print(\"Using model:\", model)\n",
        "  features = ohe +  tfidf + scale\n",
        "  if not silent and not full_silent:\n",
        "    print(\"Using features:\", features)\n",
        "\n",
        "  # Training data\n",
        "  df_train = df_movies[features + y_train_cols].dropna()\n",
        "  X_train = df_train[features]\n",
        "  y_train = df_train[y_train_cols]\n",
        "\n",
        "  # Based on model passed in, train the model and build its pipeline\n",
        "  if len(cts) == 0:\n",
        "    ct = make_column_transformer(\n",
        "        (StandardScaler(), scale),\n",
        "        (OneHotEncoder(handle_unknown=\"ignore\"), ohe),\n",
        "        remainder=\"drop\",\n",
        "    )\n",
        "    estimator = model([ct], X_train, y_train)\n",
        "  else:\n",
        "    estimator = model(cts, X_train, y_train)\n",
        "\n",
        "  if not silent and not full_silent:\n",
        "    print(\"Model fit...\")\n",
        "\n",
        "  if show_error:\n",
        "    # Does cross validation\n",
        "    if not silent and not full_silent:\n",
        "      print(\"Starting cross val\")\n",
        "    score = (cross_validate(\n",
        "          estimator,\n",
        "          X=X_train,\n",
        "          y=y_train,\n",
        "          scoring=scoring,\n",
        "          cv=5\n",
        "      )['test_score']).mean()\n",
        "    if not silent and not full_silent:\n",
        "      print(\"Score for features {}: {}\".format(features, score))\n",
        "    else:\n",
        "      if not full_silent:\n",
        "        print(score)\n",
        "    return score\n",
        "  \n",
        "  return estimator"
      ],
      "execution_count": 0,
      "outputs": []
    },
    {
      "cell_type": "markdown",
      "metadata": {
        "id": "GEtNdtkfbUlD",
        "colab_type": "text"
      },
      "source": [
        "##### Helper function to score the estimator returned by `assemble()` defined above"
      ]
    },
    {
      "cell_type": "code",
      "metadata": {
        "id": "_aytT22Ibe1w",
        "colab_type": "code",
        "colab": {}
      },
      "source": [
        "def get_assemble_score(\n",
        "    features, \n",
        "    testing_types,\n",
        "    model, \n",
        "    scoring=my_score_with_average_and_scoring(\n",
        "        f1_score, \"micro\"\n",
        "    ),\n",
        "    be_silent=True,\n",
        "):\n",
        "  \"\"\"\n",
        "    Does most of the assembling for you. Used to get cross validation score\n",
        "    by default, bu can still get estimator if wanted\n",
        "  \"\"\"\n",
        "  # Get appropriate dictionary of CTs and related columns\n",
        "  t_c_dic = get_transformers_and_columns_for_features(features, testing_types)\n",
        "  \n",
        "  # Run assemble and either get score or estimator/predictor\n",
        "  return assemble(\n",
        "    ohe=t_c_dic[\"ohe_cols\"],\n",
        "    scale=t_c_dic[\"scale_cols\"],\n",
        "    tfidf=t_c_dic[\"tfidf_cols\"],\n",
        "    show_error=True,\n",
        "    scoring=scoring,\n",
        "    model=model,\n",
        "    cts=(\n",
        "        t_c_dic[\"combined_transformers\"]\n",
        "    ),\n",
        "    full_silent=be_silent\n",
        "  )"
      ],
      "execution_count": 0,
      "outputs": []
    },
    {
      "cell_type": "markdown",
      "metadata": {
        "colab_type": "text",
        "id": "Bbprsp2xyz_9"
      },
      "source": [
        "##### Helper function to return an estimator using fewer arguments than `assemble()`"
      ]
    },
    {
      "cell_type": "code",
      "metadata": {
        "id": "M0CttYWKzJxE",
        "colab_type": "code",
        "colab": {}
      },
      "source": [
        "def get_assemble_estimator(\n",
        "    features, \n",
        "    testing_types,\n",
        "    model, \n",
        "    scoring=my_score_with_average_and_scoring(\n",
        "        f1_score, \"micro\"\n",
        "    ),\n",
        "    be_silent=True,\n",
        "):\n",
        "  \"\"\"\n",
        "    Does most of the assembling for you. Used to get cross validation score\n",
        "    by default, bu can still get estimator if wanted\n",
        "  \"\"\"\n",
        "  # Get appropriate dictionary of CTs and related columns\n",
        "  t_c_dic = get_transformers_and_columns_for_features(features, testing_types)\n",
        "  \n",
        "  # Run assemble and either get score or estimator/predictor\n",
        "  return assemble(\n",
        "    ohe=t_c_dic[\"ohe_cols\"],\n",
        "    scale=t_c_dic[\"scale_cols\"],\n",
        "    tfidf=t_c_dic[\"tfidf_cols\"],\n",
        "    show_error=False,\n",
        "    scoring=scoring,\n",
        "    model=model,\n",
        "    cts=(\n",
        "        t_c_dic[\"combined_transformers\"]\n",
        "    ),\n",
        "    full_silent=be_silent\n",
        "  )"
      ],
      "execution_count": 0,
      "outputs": []
    },
    {
      "cell_type": "markdown",
      "metadata": {
        "id": "4l8VIO1VCmAc",
        "colab_type": "text"
      },
      "source": [
        "## Building a highly optimized ML model"
      ]
    },
    {
      "cell_type": "markdown",
      "metadata": {
        "id": "DMe2MPsrJ0_X",
        "colab_type": "text"
      },
      "source": [
        "### Some considerations before we start\n",
        "- Naive Bayes is not a good idea, since our tests are not independent. Also, doesn't work well with tfidf stuff, since they process and store too much (maxed RAM).\n",
        "- Label Powerset took way to long to run given the amount of textual info (code not included / removed)\n",
        "- GradientBoosterClassifier also took too long"
      ]
    },
    {
      "cell_type": "markdown",
      "metadata": {
        "id": "Sylqp0LLl1Pk",
        "colab_type": "text"
      },
      "source": [
        "### Optimize K-Nearest Neighbors model\n",
        "We optimize the number of neighbors that should be passed into the KNN model. "
      ]
    },
    {
      "cell_type": "code",
      "metadata": {
        "id": "AcDPhWhqm9aw",
        "colab_type": "code",
        "colab": {
          "base_uri": "https://localhost:8080/",
          "height": 313
        },
        "outputId": "0159c48d-5dbf-49da-e467-2afa4d756564"
      },
      "source": [
        "\"\"\"\n",
        "  Find best parameter for number of neighbors\n",
        "\"\"\"\n",
        "n_range = list(range(1, 20, 2))\n",
        "value_range = []\n",
        "if should_run_tests:\n",
        "  for val in n_range:\n",
        "    score = get_assemble_score(\n",
        "        expected_good_features, \n",
        "        testing_types,\n",
        "        give_certain_models(\n",
        "            OneVsRestClassifier, \n",
        "            KNeighborsClassifier,\n",
        "            classifier_model_kwargs={\"n_neighbors\" : val}\n",
        "        )\n",
        "    )\n",
        "    value_range.append(score)\n",
        "  graph_values(value_range, n_range, \"line\", \"n_neighbors\", \n",
        "               \"F1 Score\", \"KNN Optimization\")\n",
        "\n",
        "  print(\"Best number of neighbors is {}\".format(\n",
        "      pd.Series(value_range, index=n_range).idxmax())\n",
        "  )"
      ],
      "execution_count": 12,
      "outputs": [
        {
          "output_type": "stream",
          "text": [
            "Best number of neighbors is 3\n"
          ],
          "name": "stdout"
        },
        {
          "output_type": "display_data",
          "data": {
            "image/png": "[encoded data removed]",
            "text/plain": [
              "<Figure size 432x288 with 1 Axes>"
            ]
          },
          "metadata": {
            "tags": []
          }
        }
      ]
    },
    {
      "cell_type": "markdown",
      "metadata": {
        "id": "s4o0HZZlMJG3",
        "colab_type": "text"
      },
      "source": [
        "#### Conclusion\n",
        "\n",
        "As the number of neighbors increases, the score gets continuously worse. I think this is because movies are not very alike, so a low number of them are going to be similar. In the training set we have, the best predictions are made from the 2 most similar, since n = 1."
      ]
    },
    {
      "cell_type": "markdown",
      "metadata": {
        "id": "N38UlurHxQgs",
        "colab_type": "text"
      },
      "source": [
        "### Optimizer SGDClassifier\n",
        "We optimize the `alpha` value for an SGDClassifier"
      ]
    },
    {
      "cell_type": "code",
      "metadata": {
        "id": "HJvggcdSt5l2",
        "colab_type": "code",
        "outputId": "3c75a555-4faa-448c-aac8-4ab1b0b968b9",
        "colab": {
          "base_uri": "https://localhost:8080/",
          "height": 309
        }
      },
      "source": [
        "\"\"\"\n",
        "  Finds best alpha for SDGClassifier\n",
        "\"\"\"\n",
        "\n",
        "alpha_range = list(range(1, 10))\n",
        "value_range = []\n",
        "if should_run_tests or True:\n",
        "  for val in alpha_range:\n",
        "    score = get_assemble_score(\n",
        "        expected_good_features, \n",
        "        testing_types,\n",
        "        give_certain_models(\n",
        "            OneVsRestClassifier, \n",
        "            SGDClassifier,\n",
        "            classifier_model_kwargs={\n",
        "                \"alpha\" : (10 ** (-val)),\n",
        "            }\n",
        "        )\n",
        "    )\n",
        "    value_range.append(score)\n",
        "\n",
        "  graph_values(value_range, alpha_range, \"bar\", \n",
        "               \"alpha (1e-n)\", \"F1 Score\", \"SGD Optimization\")\n",
        "  print(\"Best value for alpha is {}\".format(\n",
        "      pd.Series(value_range, index=alpha_range).idxmax()))"
      ],
      "execution_count": 13,
      "outputs": [
        {
          "output_type": "stream",
          "text": [
            "Best value for alpha is 9\n"
          ],
          "name": "stdout"
        },
        {
          "output_type": "display_data",
          "data": {
            "image/png": "[encoded data removed]",
            "text/plain": [
              "<Figure size 432x288 with 1 Axes>"
            ]
          },
          "metadata": {
            "tags": []
          }
        }
      ]
    },
    {
      "cell_type": "markdown",
      "metadata": {
        "id": "zhX3AGxOIPQe",
        "colab_type": "text"
      },
      "source": [
        "#### Conclusion\n",
        "A low alpha tends to be much better than a high alpha. However, it is best at 1e-8. It seems that after 1e-3, the classifier gets much worse."
      ]
    },
    {
      "cell_type": "markdown",
      "metadata": {
        "id": "4jbHkuEx5tqx",
        "colab_type": "text"
      },
      "source": [
        "### Optimize Features Selection\n",
        "In the section, we curate overview (and create new feature called mod_overview) and test it along with all other features to determine what features best predict genres of a movie. "
      ]
    },
    {
      "cell_type": "code",
      "metadata": {
        "id": "Wq-YX52fREuW",
        "colab_type": "code",
        "outputId": "92bc3de2-5113-41a4-a812-8a0d994360d7",
        "colab": {
          "base_uri": "https://localhost:8080/",
          "height": 51
        }
      },
      "source": [
        "\"\"\"\n",
        "  This is used to remove unimportant words from the overview.\n",
        "\"\"\"\n",
        "\n",
        "import nltk\n",
        "from nltk.corpus import stopwords\n",
        "nltk.download('stopwords')  \n",
        "stopwords = set(nltk.corpus.stopwords.words('english'))\n",
        "\n",
        "if \"mod_overview\" not in df_movies.columns:\n",
        "  def create_new_column_without_stopwords(df, column_before, column_after=None):\n",
        "    words_series = (\n",
        "      df[column_before].\n",
        "      str.lower().\n",
        "      str.replace(\"[^\\w\\s]\", \"\").\n",
        "      str.split()\n",
        "    )\n",
        "\n",
        "    # Function that makes string of non-stop words from original string\n",
        "    def get_new_words(words):\n",
        "      return \" \".join([w for w in words if w not in stopwords])\n",
        "\n",
        "    # Optional to either override column or provide new column name\n",
        "    if column_after == None:\n",
        "      df[column_before] = words_series.apply(get_new_words)\n",
        "    else:\n",
        "      df[column_after] = words_series.apply(get_new_words)\n",
        "\n",
        "  # Make new DF with only overview and with id so we can merge later\n",
        "  _temp_df = pd.DataFrame(df_movies[[\"id\", \"overview\"]].copy().dropna())\n",
        "  create_new_column_without_stopwords(_temp_df, \"overview\", \"mod_overview\")\n",
        "  # Merge new column back into original dataframe\n",
        "  df_movies = df_movies.merge(\n",
        "      _temp_df.drop(\"overview\", axis=1), how='left', on=\"id\"\n",
        "  )\n",
        "\n",
        "  # Set new column's transformer type\n",
        "  testing_types[\"mod_overview\"] = \"tfidf\""
      ],
      "execution_count": 14,
      "outputs": [
        {
          "output_type": "stream",
          "text": [
            "[nltk_data] Downloading package stopwords to /root/nltk_data...\n",
            "[nltk_data]   Unzipping corpora/stopwords.zip.\n"
          ],
          "name": "stdout"
        }
      ]
    },
    {
      "cell_type": "markdown",
      "metadata": {
        "id": "ZI4CV8NyhWUY",
        "colab_type": "text"
      },
      "source": [
        "#### Test Features Individually to Find Best Features to Use\n",
        "\n",
        "Goes through each feature and builds the model from **ONLY** that feature. Then it gets the F1 score with that feature alone. The graph produced tells us how well the features perform against each other."
      ]
    },
    {
      "cell_type": "code",
      "metadata": {
        "id": "Xddugthe8_fB",
        "colab_type": "code",
        "outputId": "fe6de55e-17c2-4bfb-d827-65b79bfe550a",
        "colab": {
          "base_uri": "https://localhost:8080/",
          "height": 398
        }
      },
      "source": [
        "interesting_features_to_test = testing_types.keys()\n",
        "for_sure_features = []\n",
        "to_ignore = []\n",
        "\n",
        "scores_series = pd.Series()\n",
        "baseline_score = 0\n",
        "\n",
        "for interest in interesting_features_to_test:\n",
        "  # For testing... just skips features already being tested or ones\n",
        "  # we do not want to test\n",
        "  if interest in for_sure_features or interest in to_ignore:\n",
        "    continue\n",
        "  # Can add optional '\"\"' column to get a baseline score\n",
        "  if len(interest) > 0:\n",
        "    columns_testing = for_sure_features + [interest]\n",
        "  else:\n",
        "    columns_testing = for_sure_features\n",
        "\n",
        "  # Get score for that feature\n",
        "  score = get_assemble_score(\n",
        "      columns_testing, \n",
        "      testing_types,\n",
        "      give_certain_models(\n",
        "        OneVsRestClassifier, SGDClassifier\n",
        "      )\n",
        "  )\n",
        "\n",
        "  # Add feature to series\n",
        "  if len(interest) > 0:\n",
        "    scores_series = scores_series.append(pd.Series(score, index=[interest]))\n",
        "  else:\n",
        "    baseline_score = score\n",
        "\n",
        "# Graph series\n",
        "diffs = (scores_series - baseline_score)\n",
        "graph_values(list(diffs), diffs.index, \"bar\", \"Feature\", \n",
        "             \"F1 Score\", \"Score Difference Compared to Baseline\")"
      ],
      "execution_count": 15,
      "outputs": [
        {
          "output_type": "display_data",
          "data": {
            "image/png": "[encoded data removed]",
            "text/plain": [
              "<Figure size 432x288 with 1 Axes>"
            ]
          },
          "metadata": {
            "tags": []
          }
        }
      ]
    },
    {
      "cell_type": "markdown",
      "metadata": {
        "id": "iLU5of_ZNmpu",
        "colab_type": "text"
      },
      "source": [
        "#### Conclusion\n",
        "\n",
        "- Removing the unimportant words from overview (the plot summary) does not help our model.\n",
        "- Textual features are much more helpful, as most of the top features (keywords, overview, tagline, and cast) are textual and are vectorizied. This makes sense, since genre would be best determined by things that describe what's going on in the movie.\n",
        "- Other textual features that are One Hot Encoded also are better, like production_companies and Screenplay. Often, the same companies and writers make similar kinds of movies.\n",
        "- Surprisingly, users who liked similar types of movies is not a good predictor for genre. Perhaps there is not enough data per user or that users in general just like a lot of different genres.\n",
        "- Most quantitative variables are poor predictors. This is simply because they do not hold enough information about the movie. Adventure movies can have varying runtimes. The amount a movie makes in revenue is more based on its quality than genre.\n",
        "\n",
        "From this, we've decided to use as our based predictors: **keywords, overview, Screenplay, cast, tagline, production_companies, Composer.**"
      ]
    },
    {
      "cell_type": "code",
      "metadata": {
        "id": "tvpshQOf0wzf",
        "colab_type": "code",
        "colab": {}
      },
      "source": [
        "features_to_test = [\n",
        "    \"keywords\", \"overview\", \"Screenplay\", \n",
        "    \"cast\", \"tagline\", \"production_companies\",\n",
        "    \"Composer\"\n",
        "]"
      ],
      "execution_count": 0,
      "outputs": []
    },
    {
      "cell_type": "markdown",
      "metadata": {
        "id": "Cl9p9MQjtNVM",
        "colab_type": "text"
      },
      "source": [
        "### Optimize Model Selection\n",
        "\n",
        "Takes different models and tests them with the same features. This shows us which models work the best based on features we've decided to best predictors of genres in the previous section."
      ]
    },
    {
      "cell_type": "code",
      "metadata": {
        "id": "-oEyvi-MlaYc",
        "colab_type": "code",
        "colab": {
          "base_uri": "https://localhost:8080/",
          "height": 378
        },
        "outputId": "26fcf5bc-c403-4436-c34c-1332d2f2dfc9"
      },
      "source": [
        "models = [\n",
        "          (LogisticRegression, {\"max_iter\" : 1000}, \"LogisticRegression\"), \n",
        "          (KNeighborsClassifier, {\"n_neighbors\" : 2 }, \"KNN\"), \n",
        "          (SGDClassifier, { \"alpha\" : 1e-08 }, \"SGD\"), \n",
        "          (RandomForestClassifier, \n",
        "           { \"max_depth\" : 30, \"random_state\" : 0 }, \n",
        "           \"RandomForest\"\n",
        "          ),\n",
        "          (PassiveAggressiveClassifier, { \"C\" : 1 }, \"PassiveAggressive\"),\n",
        "          (RidgeClassifier, { \"alpha\" : 1 }, \"Ridge\"),\n",
        "          \n",
        "]\n",
        "\n",
        "scores_series = pd.Series()\n",
        "baseline_score = 0\n",
        "\n",
        "if should_run_tests:\n",
        "  for model in models:\n",
        "    # Get model's score\n",
        "    score = get_assemble_score(\n",
        "        features_to_test, \n",
        "        testing_types,\n",
        "        give_certain_models(\n",
        "          OneVsRestClassifier, \n",
        "          model[0],\n",
        "          classifier_model_kwargs=model[1]\n",
        "      )\n",
        "    )\n",
        "\n",
        "    # Add score, with index set to name of model\n",
        "    scores_series = scores_series.append(pd.Series(score, index=[model[2]]))\n",
        "  # Graph values\n",
        "  graph_values(list(scores_series), scores_series.index, \"bar\", \n",
        "              \"Model\", \"F1 Score\", \"F1 Score of Models\")"
      ],
      "execution_count": 17,
      "outputs": [
        {
          "output_type": "display_data",
          "data": {
            "image/png": "[encoded data removed]",
            "text/plain": [
              "<Figure size 432x288 with 1 Axes>"
            ]
          },
          "metadata": {
            "tags": []
          }
        }
      ]
    },
    {
      "cell_type": "markdown",
      "metadata": {
        "id": "uMptClRgSztp",
        "colab_type": "text"
      },
      "source": [
        "#### Conclusions\n",
        "\n",
        "It is clear from the graph that some models are better than others. Mainly, SGD, PassiveAggressive, and Ridge are by far the best.\n",
        "Justification: SGD is known to be good in text classification, so the results makes sense given that most of our features are textual. "
      ]
    },
    {
      "cell_type": "markdown",
      "metadata": {
        "colab_type": "text",
        "id": "so7fW2Ke8jti"
      },
      "source": [
        "## Predicting with our optimized model"
      ]
    },
    {
      "cell_type": "code",
      "metadata": {
        "colab_type": "code",
        "id": "4D6rO9SiFDHp",
        "colab": {}
      },
      "source": [
        "import matplotlib.pyplot as plt \n",
        "\n",
        "optimized_model = get_assemble_estimator(\n",
        "    features_to_test, testing_types, \n",
        "    give_certain_models(\n",
        "          OneVsRestClassifier, \n",
        "          SGDClassifier,\n",
        "          classifier_model_kwargs = { \"alpha\" : 1e-08}\n",
        "      )\n",
        ")\n",
        "\n",
        "def plot_predictions_vs_actual(df, n=10, suffix=\"training\"):\n",
        "  X_test = df[features_to_test]\n",
        "  for movie_id in range(0, n):\n",
        "    y_test = optimized_model.predict(X_test[movie_id: movie_id + 1].fillna(\"\"))\n",
        "    # Predicted genres\n",
        "    predicted_genres = []\n",
        "    for i in range(len(y_test[0])):\n",
        "      if y_test[0][i] == 1:\n",
        "        predicted_genres.append(genres[i])\n",
        "\n",
        "    # Actual genres\n",
        "    actual_genres = []\n",
        "    for genre, present in df.iloc[movie_id][:20].iteritems():\n",
        "      if present == 1:\n",
        "        actual_genres.append(genre)\n",
        "    \n",
        "    # plot\n",
        "    movie_name = df[\"original_title\"][movie_id]\n",
        "    plt.bar(predicted_genres, 1, color='b', label='Predicted genres')\n",
        "    plt.bar(actual_genres, 1, color='r', alpha=0.5, label='Actual Genres')\n",
        "    plt.suptitle(movie_name)\n",
        "    plt.legend()\n",
        "    print(\"Saving...\")\n",
        "    plt.savefig(\"{}images/{}_{}.png\".format(\n",
        "        data_dir, movie_name.replace(\" \", \"_\"), suffix)\n",
        "    )\n",
        "    plt.show()\n",
        "    print(\"\\n\\n\")\n"
      ],
      "execution_count": 0,
      "outputs": []
    },
    {
      "cell_type": "markdown",
      "metadata": {
        "id": "4qq-0mDKTZc8",
        "colab_type": "text"
      },
      "source": [
        "### Plot predictions of our model for genres vs. actual value on training data"
      ]
    },
    {
      "cell_type": "code",
      "metadata": {
        "id": "szfuxAmJSCwM",
        "colab_type": "code",
        "colab": {
          "base_uri": "https://localhost:8080/",
          "height": 1000
        },
        "outputId": "d529638e-1579-411d-c3fd-8f3c2fbf2768"
      },
      "source": [
        "plot_predictions_vs_actual(df_movies, 10)"
      ],
      "execution_count": 22,
      "outputs": [
        {
          "output_type": "stream",
          "text": [
            "/usr/local/lib/python3.6/dist-packages/sklearn/compose/_column_transformer.py:430: FutureWarning: Given feature/column names or counts do not match the ones for the data given during fit. This will fail from v0.24.\n",
            "  FutureWarning)\n"
          ],
          "name": "stderr"
        },
        {
          "output_type": "stream",
          "text": [
            "Saving...\n"
          ],
          "name": "stdout"
        },
        {
          "output_type": "display_data",
          "data": {
            "image/png": "[encoded data removed]",
            "text/plain": [
              "<Figure size 432x288 with 1 Axes>"
            ]
          },
          "metadata": {
            "tags": []
          }
        },
        {
          "output_type": "stream",
          "text": [
            "\n",
            "\n",
            "\n",
            "Saving...\n"
          ],
          "name": "stdout"
        },
        {
          "output_type": "stream",
          "text": [
            "/usr/local/lib/python3.6/dist-packages/sklearn/compose/_column_transformer.py:430: FutureWarning: Given feature/column names or counts do not match the ones for the data given during fit. This will fail from v0.24.\n",
            "  FutureWarning)\n"
          ],
          "name": "stderr"
        },
        {
          "output_type": "display_data",
          "data": {
            "image/png": "[encoded data removed]",
            "text/plain": [
              "<Figure size 432x288 with 1 Axes>"
            ]
          },
          "metadata": {
            "tags": []
          }
        },
        {
          "output_type": "stream",
          "text": [
            "\n",
            "\n",
            "\n",
            "Saving...\n"
          ],
          "name": "stdout"
        },
        {
          "output_type": "stream",
          "text": [
            "/usr/local/lib/python3.6/dist-packages/sklearn/compose/_column_transformer.py:430: FutureWarning: Given feature/column names or counts do not match the ones for the data given during fit. This will fail from v0.24.\n",
            "  FutureWarning)\n"
          ],
          "name": "stderr"
        },
        {
          "output_type": "display_data",
          "data": {
            "image/png": "[encoded data removed]",
            "text/plain": [
              "<Figure size 432x288 with 1 Axes>"
            ]
          },
          "metadata": {
            "tags": []
          }
        },
        {
          "output_type": "stream",
          "text": [
            "\n",
            "\n",
            "\n",
            "Saving...\n"
          ],
          "name": "stdout"
        },
        {
          "output_type": "stream",
          "text": [
            "/usr/local/lib/python3.6/dist-packages/sklearn/compose/_column_transformer.py:430: FutureWarning: Given feature/column names or counts do not match the ones for the data given during fit. This will fail from v0.24.\n",
            "  FutureWarning)\n"
          ],
          "name": "stderr"
        },
        {
          "output_type": "display_data",
          "data": {
            "image/png": "[encoded data removed]",
            "text/plain": [
              "<Figure size 432x288 with 1 Axes>"
            ]
          },
          "metadata": {
            "tags": []
          }
        },
        {
          "output_type": "stream",
          "text": [
            "\n",
            "\n",
            "\n",
            "Saving...\n"
          ],
          "name": "stdout"
        },
        {
          "output_type": "stream",
          "text": [
            "/usr/local/lib/python3.6/dist-packages/sklearn/compose/_column_transformer.py:430: FutureWarning: Given feature/column names or counts do not match the ones for the data given during fit. This will fail from v0.24.\n",
            "  FutureWarning)\n"
          ],
          "name": "stderr"
        },
        {
          "output_type": "display_data",
          "data": {
            "image/png": "[encoded data removed]",
            "text/plain": [
              "<Figure size 432x288 with 1 Axes>"
            ]
          },
          "metadata": {
            "tags": []
          }
        },
        {
          "output_type": "stream",
          "text": [
            "\n",
            "\n",
            "\n",
            "Saving...\n"
          ],
          "name": "stdout"
        },
        {
          "output_type": "stream",
          "text": [
            "/usr/local/lib/python3.6/dist-packages/sklearn/compose/_column_transformer.py:430: FutureWarning: Given feature/column names or counts do not match the ones for the data given during fit. This will fail from v0.24.\n",
            "  FutureWarning)\n"
          ],
          "name": "stderr"
        },
        {
          "output_type": "display_data",
          "data": {
            "image/png": "[encoded data removed]",
            "text/plain": [
              "<Figure size 432x288 with 1 Axes>"
            ]
          },
          "metadata": {
            "tags": []
          }
        },
        {
          "output_type": "stream",
          "text": [
            "\n",
            "\n",
            "\n",
            "Saving...\n"
          ],
          "name": "stdout"
        },
        {
          "output_type": "stream",
          "text": [
            "/usr/local/lib/python3.6/dist-packages/sklearn/compose/_column_transformer.py:430: FutureWarning: Given feature/column names or counts do not match the ones for the data given during fit. This will fail from v0.24.\n",
            "  FutureWarning)\n"
          ],
          "name": "stderr"
        },
        {
          "output_type": "display_data",
          "data": {
            "image/png": "[encoded data removed]",
            "text/plain": [
              "<Figure size 432x288 with 1 Axes>"
            ]
          },
          "metadata": {
            "tags": []
          }
        },
        {
          "output_type": "stream",
          "text": [
            "\n",
            "\n",
            "\n",
            "Saving...\n"
          ],
          "name": "stdout"
        },
        {
          "output_type": "stream",
          "text": [
            "/usr/local/lib/python3.6/dist-packages/sklearn/compose/_column_transformer.py:430: FutureWarning: Given feature/column names or counts do not match the ones for the data given during fit. This will fail from v0.24.\n",
            "  FutureWarning)\n"
          ],
          "name": "stderr"
        },
        {
          "output_type": "display_data",
          "data": {
            "image/png": "[encoded data removed]",
            "text/plain": [
              "<Figure size 432x288 with 1 Axes>"
            ]
          },
          "metadata": {
            "tags": []
          }
        },
        {
          "output_type": "stream",
          "text": [
            "\n",
            "\n",
            "\n",
            "Saving...\n"
          ],
          "name": "stdout"
        },
        {
          "output_type": "stream",
          "text": [
            "/usr/local/lib/python3.6/dist-packages/sklearn/compose/_column_transformer.py:430: FutureWarning: Given feature/column names or counts do not match the ones for the data given during fit. This will fail from v0.24.\n",
            "  FutureWarning)\n"
          ],
          "name": "stderr"
        },
        {
          "output_type": "display_data",
          "data": {
            "image/png": "[encoded data removed]",
            "text/plain": [
              "<Figure size 432x288 with 1 Axes>"
            ]
          },
          "metadata": {
            "tags": []
          }
        },
        {
          "output_type": "stream",
          "text": [
            "\n",
            "\n",
            "\n",
            "Saving...\n"
          ],
          "name": "stdout"
        },
        {
          "output_type": "stream",
          "text": [
            "/usr/local/lib/python3.6/dist-packages/sklearn/compose/_column_transformer.py:430: FutureWarning: Given feature/column names or counts do not match the ones for the data given during fit. This will fail from v0.24.\n",
            "  FutureWarning)\n"
          ],
          "name": "stderr"
        },
        {
          "output_type": "display_data",
          "data": {
            "image/png": "[encoded data removed]",
            "text/plain": [
              "<Figure size 432x288 with 1 Axes>"
            ]
          },
          "metadata": {
            "tags": []
          }
        },
        {
          "output_type": "stream",
          "text": [
            "\n",
            "\n",
            "\n"
          ],
          "name": "stdout"
        }
      ]
    },
    {
      "cell_type": "markdown",
      "metadata": {
        "colab_type": "text",
        "id": "kL_ajpcMTmQZ"
      },
      "source": [
        "### Plot predictions of our model for genres vs. actual value on test data\n",
        "This data was sampled and dropped from the training data earlier. "
      ]
    },
    {
      "cell_type": "code",
      "metadata": {
        "id": "wvQCQ_YJLNsf",
        "colab_type": "code",
        "colab": {
          "base_uri": "https://localhost:8080/",
          "height": 1000
        },
        "outputId": "992292c0-e8e8-4bc2-d68d-aeaec4e9dcff"
      },
      "source": [
        "plot_predictions_vs_actual(df_movies_test, 10, suffix=\"test\")"
      ],
      "execution_count": 23,
      "outputs": [
        {
          "output_type": "stream",
          "text": [
            "/usr/local/lib/python3.6/dist-packages/sklearn/compose/_column_transformer.py:430: FutureWarning: Given feature/column names or counts do not match the ones for the data given during fit. This will fail from v0.24.\n",
            "  FutureWarning)\n"
          ],
          "name": "stderr"
        },
        {
          "output_type": "stream",
          "text": [
            "Saving...\n"
          ],
          "name": "stdout"
        },
        {
          "output_type": "display_data",
          "data": {
            "image/png": "[encoded data removed]",
            "text/plain": [
              "<Figure size 432x288 with 1 Axes>"
            ]
          },
          "metadata": {
            "tags": []
          }
        },
        {
          "output_type": "stream",
          "text": [
            "\n",
            "\n",
            "\n",
            "Saving...\n"
          ],
          "name": "stdout"
        },
        {
          "output_type": "stream",
          "text": [
            "/usr/local/lib/python3.6/dist-packages/sklearn/compose/_column_transformer.py:430: FutureWarning: Given feature/column names or counts do not match the ones for the data given during fit. This will fail from v0.24.\n",
            "  FutureWarning)\n"
          ],
          "name": "stderr"
        },
        {
          "output_type": "display_data",
          "data": {
            "image/png": "[encoded data removed]",
            "text/plain": [
              "<Figure size 432x288 with 1 Axes>"
            ]
          },
          "metadata": {
            "tags": []
          }
        },
        {
          "output_type": "stream",
          "text": [
            "\n",
            "\n",
            "\n",
            "Saving...\n"
          ],
          "name": "stdout"
        },
        {
          "output_type": "stream",
          "text": [
            "/usr/local/lib/python3.6/dist-packages/sklearn/compose/_column_transformer.py:430: FutureWarning: Given feature/column names or counts do not match the ones for the data given during fit. This will fail from v0.24.\n",
            "  FutureWarning)\n"
          ],
          "name": "stderr"
        },
        {
          "output_type": "display_data",
          "data": {
            "image/png": "[encoded data removed]",
            "text/plain": [
              "<Figure size 432x288 with 1 Axes>"
            ]
          },
          "metadata": {
            "tags": []
          }
        },
        {
          "output_type": "stream",
          "text": [
            "\n",
            "\n",
            "\n",
            "Saving...\n"
          ],
          "name": "stdout"
        },
        {
          "output_type": "stream",
          "text": [
            "/usr/local/lib/python3.6/dist-packages/sklearn/compose/_column_transformer.py:430: FutureWarning: Given feature/column names or counts do not match the ones for the data given during fit. This will fail from v0.24.\n",
            "  FutureWarning)\n"
          ],
          "name": "stderr"
        },
        {
          "output_type": "display_data",
          "data": {
            "image/png": "[encoded data removed]",
            "text/plain": [
              "<Figure size 432x288 with 1 Axes>"
            ]
          },
          "metadata": {
            "tags": []
          }
        },
        {
          "output_type": "stream",
          "text": [
            "\n",
            "\n",
            "\n",
            "Saving...\n"
          ],
          "name": "stdout"
        },
        {
          "output_type": "stream",
          "text": [
            "/usr/local/lib/python3.6/dist-packages/sklearn/compose/_column_transformer.py:430: FutureWarning: Given feature/column names or counts do not match the ones for the data given during fit. This will fail from v0.24.\n",
            "  FutureWarning)\n"
          ],
          "name": "stderr"
        },
        {
          "output_type": "display_data",
          "data": {
            "image/png": "[encoded data removed]",
            "text/plain": [
              "<Figure size 432x288 with 1 Axes>"
            ]
          },
          "metadata": {
            "tags": []
          }
        },
        {
          "output_type": "stream",
          "text": [
            "\n",
            "\n",
            "\n",
            "Saving...\n"
          ],
          "name": "stdout"
        },
        {
          "output_type": "stream",
          "text": [
            "/usr/local/lib/python3.6/dist-packages/sklearn/compose/_column_transformer.py:430: FutureWarning: Given feature/column names or counts do not match the ones for the data given during fit. This will fail from v0.24.\n",
            "  FutureWarning)\n"
          ],
          "name": "stderr"
        },
        {
          "output_type": "display_data",
          "data": {
            "image/png": "[encoded data removed]",
            "text/plain": [
              "<Figure size 432x288 with 1 Axes>"
            ]
          },
          "metadata": {
            "tags": []
          }
        },
        {
          "output_type": "stream",
          "text": [
            "\n",
            "\n",
            "\n",
            "Saving...\n"
          ],
          "name": "stdout"
        },
        {
          "output_type": "stream",
          "text": [
            "/usr/local/lib/python3.6/dist-packages/sklearn/compose/_column_transformer.py:430: FutureWarning: Given feature/column names or counts do not match the ones for the data given during fit. This will fail from v0.24.\n",
            "  FutureWarning)\n"
          ],
          "name": "stderr"
        },
        {
          "output_type": "display_data",
          "data": {
            "image/png": "[encoded data removed]",
            "text/plain": [
              "<Figure size 432x288 with 1 Axes>"
            ]
          },
          "metadata": {
            "tags": []
          }
        },
        {
          "output_type": "stream",
          "text": [
            "\n",
            "\n",
            "\n",
            "Saving...\n"
          ],
          "name": "stdout"
        },
        {
          "output_type": "stream",
          "text": [
            "/usr/local/lib/python3.6/dist-packages/sklearn/compose/_column_transformer.py:430: FutureWarning: Given feature/column names or counts do not match the ones for the data given during fit. This will fail from v0.24.\n",
            "  FutureWarning)\n"
          ],
          "name": "stderr"
        },
        {
          "output_type": "display_data",
          "data": {
            "image/png": "[encoded data removed]",
            "text/plain": [
              "<Figure size 432x288 with 1 Axes>"
            ]
          },
          "metadata": {
            "tags": []
          }
        },
        {
          "output_type": "stream",
          "text": [
            "\n",
            "\n",
            "\n",
            "Saving...\n"
          ],
          "name": "stdout"
        },
        {
          "output_type": "stream",
          "text": [
            "/usr/local/lib/python3.6/dist-packages/sklearn/compose/_column_transformer.py:430: FutureWarning: Given feature/column names or counts do not match the ones for the data given during fit. This will fail from v0.24.\n",
            "  FutureWarning)\n"
          ],
          "name": "stderr"
        },
        {
          "output_type": "display_data",
          "data": {
            "image/png": "[encoded data removed]",
            "text/plain": [
              "<Figure size 432x288 with 1 Axes>"
            ]
          },
          "metadata": {
            "tags": []
          }
        },
        {
          "output_type": "stream",
          "text": [
            "\n",
            "\n",
            "\n",
            "Saving...\n"
          ],
          "name": "stdout"
        },
        {
          "output_type": "stream",
          "text": [
            "/usr/local/lib/python3.6/dist-packages/sklearn/compose/_column_transformer.py:430: FutureWarning: Given feature/column names or counts do not match the ones for the data given during fit. This will fail from v0.24.\n",
            "  FutureWarning)\n"
          ],
          "name": "stderr"
        },
        {
          "output_type": "display_data",
          "data": {
            "image/png": "[encoded data removed]",
            "text/plain": [
              "<Figure size 432x288 with 1 Axes>"
            ]
          },
          "metadata": {
            "tags": []
          }
        },
        {
          "output_type": "stream",
          "text": [
            "\n",
            "\n",
            "\n"
          ],
          "name": "stdout"
        }
      ]
    },
    {
      "cell_type": "markdown",
      "metadata": {
        "id": "JXCoyGlLVmXe",
        "colab_type": "text"
      },
      "source": [
        "### Conclusion\n",
        "It is evident that the predictions on training data was better than on test data. This makes sense because our model was trained on the training data. The best `f_score` that we had, which was aound ~0.5, also aligns with how often our predictions on test data is correct. "
      ]
    }
  ]
}